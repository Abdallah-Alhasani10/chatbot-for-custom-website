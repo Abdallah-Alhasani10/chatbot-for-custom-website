{
  "nbformat": 4,
  "nbformat_minor": 0,
  "metadata": {
    "colab": {
      "provenance": [],
      "authorship_tag": "ABX9TyOW3KFctqNElVFanPvBdSu+",
      "include_colab_link": true
    },
    "kernelspec": {
      "name": "python3",
      "display_name": "Python 3"
    },
    "language_info": {
      "name": "python"
    }
  },
  "cells": [
    {
      "cell_type": "markdown",
      "metadata": {
        "id": "view-in-github",
        "colab_type": "text"
      },
      "source": [
        "<a href=\"https://colab.research.google.com/github/Abdallah-Alhasani10/chatbot-for-custom-website/blob/main/custom_chatbot_for_website.ipynb\" target=\"_parent\"><img src=\"https://colab.research.google.com/assets/colab-badge.svg\" alt=\"Open In Colab\"/></a>"
      ]
    },
    {
      "cell_type": "code",
      "source": [
        "import sys\n",
        "import os\n",
        "import torch\n",
        "import textwrap\n",
        "from langchain.document_loaders import UnstructuredURLLoader\n",
        "from langchain.text_splitter import CharacterTextSplitter\n",
        "from langchain.vectorstores import FAISS\n",
        "from langchain.chains import RetrievalQAWithSourcesChain\n",
        "import nltk\n",
        "nltk.download('punkt')\n",
        "nltk.download('averaged_perceptron_tagger')"
      ],
      "metadata": {
        "colab": {
          "base_uri": "https://localhost:8080/"
        },
        "id": "VjSVtEk2J2nz",
        "outputId": "30b5db88-e156-4099-99f4-c3f2f997f286"
      },
      "execution_count": 118,
      "outputs": [
        {
          "output_type": "stream",
          "name": "stderr",
          "text": [
            "[nltk_data] Downloading package punkt to /root/nltk_data...\n",
            "[nltk_data]   Package punkt is already up-to-date!\n",
            "[nltk_data] Downloading package averaged_perceptron_tagger to\n",
            "[nltk_data]     /root/nltk_data...\n",
            "[nltk_data]   Package averaged_perceptron_tagger is already up-to-\n",
            "[nltk_data]       date!\n"
          ]
        },
        {
          "output_type": "execute_result",
          "data": {
            "text/plain": [
              "True"
            ]
          },
          "metadata": {},
          "execution_count": 118
        }
      ]
    },
    {
      "cell_type": "code",
      "source": [
        "URLS=[\n",
        "     'https://blog.gopenai.com/paper-review-llama-2-open-foundation-and-fine-tuned-chat-models-23e539522acb',\n",
        "    'https://www.mosaicml.com/blog/mpt-7b',\n",
        "    'https://stability.ai/blog/stability-ai-launches-the-first-of-its-stablelm-suite-of-language-models',\n",
        "    'https://lmsys.org/blog/2023-03-30-vicuna/'\n",
        "\n",
        "]\n"
      ],
      "metadata": {
        "id": "_8g6dUHeKlXB"
      },
      "execution_count": 119,
      "outputs": []
    },
    {
      "cell_type": "code",
      "source": [
        "from transformers import AutoTokenizer, AutoModelForSeq2SeqLM\n",
        "tokenizer = AutoTokenizer.from_pretrained(\"google/flan-t5-base\")\n",
        "model = AutoModelForSeq2SeqLM.from_pretrained(\"google/flan-t5-base\")"
      ],
      "metadata": {
        "id": "uIhGv88HK8tb"
      },
      "execution_count": 120,
      "outputs": []
    },
    {
      "cell_type": "code",
      "source": [
        "loaders = UnstructuredURLLoader(urls=URLS)\n",
        "data = loaders.load()"
      ],
      "metadata": {
        "id": "kzZO7DqaKzSv"
      },
      "execution_count": 121,
      "outputs": []
    },
    {
      "cell_type": "code",
      "source": [
        "text_splitter=CharacterTextSplitter(separator='\\n',\n",
        "                                    chunk_size=1000,\n",
        "                                    chunk_overlap=200)"
      ],
      "metadata": {
        "id": "eiSXyrzPLTNO"
      },
      "execution_count": 122,
      "outputs": []
    },
    {
      "cell_type": "code",
      "source": [
        "text_chunk=text_splitter.split_documents(data)"
      ],
      "metadata": {
        "id": "eBPDoy5fLYWO"
      },
      "execution_count": 123,
      "outputs": []
    },
    {
      "cell_type": "code",
      "source": [
        "from langchain.embeddings import HuggingFaceEmbeddings\n",
        "embedding=HuggingFaceEmbeddings(model_name='sentence-transformers/all-MiniLM-L6-v2')\n",
        "vectorstores=FAISS.from_documents(text_chunk,embedding)"
      ],
      "metadata": {
        "id": "Z-I9DSUeLn5p"
      },
      "execution_count": 124,
      "outputs": []
    },
    {
      "cell_type": "code",
      "source": [
        "from langchain.llms.base import LLM\n",
        "from typing import Optional\n",
        "from pydantic import BaseModel, Field, PrivateAttr\n",
        "class LLMWapper(LLM, BaseModel):\n",
        "    max_length: int = Field(100, description=\"Maximum length of generated text\")\n",
        "    _tokenizer: AutoTokenizer = PrivateAttr()\n",
        "    _model: AutoModelForSeq2SeqLM = PrivateAttr()\n",
        "\n",
        "    def __init__(self, tokenizer: AutoTokenizer, model: AutoModelForSeq2SeqLM, **kwargs):\n",
        "        super().__init__(**kwargs)\n",
        "        self._tokenizer = tokenizer\n",
        "        self._model = model\n",
        "\n",
        "    def _call(self, prompt: str, stop: Optional[list] = None, **kwargs) -> str:\n",
        "        inputs = self._tokenizer(prompt, return_tensors=\"pt\")\n",
        "        outputs = self._model.generate(\n",
        "            input_ids=inputs[\"input_ids\"],\n",
        "            max_length=self.max_length,\n",
        "            num_return_sequences=1,\n",
        "            pad_token_id=self._tokenizer.eos_token_id,\n",
        "        )\n",
        "        result = self._tokenizer.decode(outputs[0], skip_special_tokens=True)\n",
        "        return result\n",
        "\n",
        "    @property\n",
        "    def _llm_type(self) -> str:\n",
        "        return \"custom\""
      ],
      "metadata": {
        "id": "To6arm7RRL6M"
      },
      "execution_count": 125,
      "outputs": []
    },
    {
      "cell_type": "code",
      "source": [
        "llm=LLMWapper(tokenizer=tokenizer, model=model, max_length=100)"
      ],
      "metadata": {
        "id": "wXsDXPV_S7Nj"
      },
      "execution_count": 126,
      "outputs": []
    },
    {
      "cell_type": "code",
      "source": [
        "llm.predict(\"please Provide a concise summary of Book Harry potter\")\n",
        "chain=RetrievalQAWithSourcesChain.from_llm(llm=llm, retriever=vectorstores.as_retriever())"
      ],
      "metadata": {
        "id": "6oJkN0sJS8dO"
      },
      "execution_count": 127,
      "outputs": []
    },
    {
      "cell_type": "code",
      "source": [
        "while True:\n",
        "  query=input(f\"Prompt\")\n",
        "  if query =='exit':\n",
        "    print('Exiting')\n",
        "    sys.exit()\n",
        "  if query:\n",
        "    result=chain({\"question\": query},return_only_outputs=True)\n",
        "    print(textwrap.fill(result['answer'],100))\n"
      ],
      "metadata": {
        "id": "hF2FLSCGTOZ1",
        "outputId": "f8acaec6-c666-4d4b-dfc5-58cafb51c129",
        "colab": {
          "base_uri": "https://localhost:8080/"
        }
      },
      "execution_count": null,
      "outputs": [
        {
          "metadata": {
            "tags": null
          },
          "name": "stderr",
          "output_type": "stream",
          "text": [
            "Token indices sequence length is longer than the specified maximum sequence length for this model (1739 > 512). Running this sequence through the model will result in indexing errors\n"
          ]
        },
        {
          "metadata": {
            "tags": null
          },
          "name": "stdout",
          "output_type": "stream",
          "text": [
            "https://blog.gopenai.com/paper-review-llama-2-open-foundation-and-fine-tuned-chat-\n",
            "models-23e539522acb\n",
            "90%* ChatGPT Quality.\n"
          ]
        }
      ]
    },
    {
      "cell_type": "code",
      "source": [],
      "metadata": {
        "id": "0zBLTlD_TnZa"
      },
      "execution_count": null,
      "outputs": []
    }
  ]
}